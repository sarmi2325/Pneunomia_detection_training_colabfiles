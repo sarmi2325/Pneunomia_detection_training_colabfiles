{
  "nbformat": 4,
  "nbformat_minor": 0,
  "metadata": {
    "colab": {
      "provenance": [],
      "gpuType": "T4"
    },
    "kernelspec": {
      "name": "python3",
      "display_name": "Python 3"
    },
    "language_info": {
      "name": "python"
    },
    "accelerator": "GPU"
  },
  "cells": [
    {
      "cell_type": "code",
      "execution_count": 1,
      "metadata": {
        "colab": {
          "base_uri": "https://localhost:8080/"
        },
        "id": "Fr6jbj1ekPAZ",
        "outputId": "734d361d-0ea5-4348-98c8-242424cc5852"
      },
      "outputs": [
        {
          "output_type": "stream",
          "name": "stdout",
          "text": [
            "Mounted at /content/drive\n"
          ]
        }
      ],
      "source": [
        "#Connecting to the Google Drive\n",
        "from google.colab import drive\n",
        "drive.mount('/content/drive')"
      ]
    },
    {
      "cell_type": "code",
      "source": [
        "import tensorflow as tf\n",
        "from tensorflow.keras.preprocessing import image_dataset_from_directory\n",
        "from tensorflow.data import AUTOTUNE\n",
        "\n",
        "# Set path to your dataset\n",
        "data_dir = '/content/drive/MyDrive/chest_xray (1)'\n",
        "\n",
        "#Resizing image and configuring batch size\n",
        "IMG_SIZE = (224, 224)\n",
        "BATCH_SIZE = 32\n",
        "\n",
        "# Load training data\n",
        "train_ds = image_dataset_from_directory(\n",
        "    directory=f\"{data_dir}/train\",\n",
        "    labels='inferred',\n",
        "    label_mode='int',\n",
        "    image_size=IMG_SIZE,\n",
        "    batch_size=BATCH_SIZE\n",
        ")\n",
        "\n",
        "#Load validation data\n",
        "val_ds = image_dataset_from_directory(\n",
        "    directory=f\"{data_dir}/val\",\n",
        "    labels='inferred',\n",
        "    label_mode='int',\n",
        "    image_size=IMG_SIZE,\n",
        "    batch_size=BATCH_SIZE\n",
        ")\n",
        "\n",
        "# Load test data\n",
        "test_ds = image_dataset_from_directory(\n",
        "    directory=f\"{data_dir}/test\",\n",
        "    labels='inferred',\n",
        "    label_mode='int',\n",
        "    image_size=IMG_SIZE,\n",
        "    batch_size=BATCH_SIZE,\n",
        "    shuffle=False\n",
        ")\n",
        "\n",
        "# Prefetch batch for optimized performance\n",
        "train_ds = train_ds.prefetch(buffer_size=AUTOTUNE)\n",
        "val_ds = val_ds.prefetch(buffer_size=AUTOTUNE)\n",
        "test_ds = test_ds.prefetch(buffer_size=AUTOTUNE)"
      ],
      "metadata": {
        "colab": {
          "base_uri": "https://localhost:8080/"
        },
        "id": "eeMcoe5ekrl5",
        "outputId": "066ab411-a53a-49ff-9b6c-e0ad902190c5"
      },
      "execution_count": 2,
      "outputs": [
        {
          "output_type": "stream",
          "name": "stdout",
          "text": [
            "Found 6818 files belonging to 2 classes.\n",
            "Found 1172 files belonging to 2 classes.\n",
            "Found 586 files belonging to 2 classes.\n"
          ]
        }
      ]
    },
    {
      "cell_type": "code",
      "source": [
        "from tensorflow.keras import layers\n",
        "\n",
        "#Implementing Data Augmentation for better generalization and to avoid overfitting\n",
        "#Since it is a medical dataset, heavy data augumentation will mislead the data. Hence brightness and contrast is implemented\n",
        "data_augmentation = tf.keras.Sequential([\n",
        "    layers.RandomBrightness(factor=0.2),  # Brightness adjustment ±20%\n",
        "    layers.RandomContrast(factor=0.2) ,    # Contrast adjustment ±20%\n",
        "    layers.RandomZoom(0.1),\n",
        "])"
      ],
      "metadata": {
        "id": "55xpqvStk7_8"
      },
      "execution_count": 4,
      "outputs": []
    },
    {
      "cell_type": "code",
      "source": [
        "#import libraries for training the model\n",
        "from tensorflow.keras import models\n",
        "from tensorflow.keras.applications import EfficientNetB0 #chossing EfficientNetB0 as it is a light weight model and give better accuracy for binary image classification\n",
        "from tensorflow.keras.applications.efficientnet import preprocess_input\n",
        "from tensorflow.keras.optimizers import Adam\n",
        "import numpy as np\n",
        "from tensorflow.keras.callbacks import EarlyStopping, ReduceLROnPlateau"
      ],
      "metadata": {
        "id": "T8chBu2Yk-s6"
      },
      "execution_count": 6,
      "outputs": []
    },
    {
      "cell_type": "code",
      "source": [
        "# Base model with pretrained ImageNet weights\n",
        "base_model = EfficientNetB0(include_top=False, input_shape=(224, 224, 3), weights='imagenet')\n",
        "base_model.trainable = False  # Freeze all layers initially\n",
        "# Build the model\n",
        "inputs = tf.keras.Input(shape=(224, 224, 3))\n",
        "x = data_augmentation(inputs)\n",
        "x = preprocess_input(x)\n",
        "x = base_model(x, training=False)\n",
        "x = layers.GlobalAveragePooling2D()(x)\n",
        "x = layers.Dropout(0.3)(x)\n",
        "outputs = layers.Dense(1, activation='sigmoid')(x)\n",
        "\n",
        "model = tf.keras.Model(inputs, outputs)\n",
        "\n",
        "# Compile\n",
        "model.compile(\n",
        "    optimizer=Adam(learning_rate=1e-4),\n",
        "    loss='binary_crossentropy',\n",
        "    metrics=['accuracy']\n",
        ")\n",
        "\n",
        "early_stop = EarlyStopping(monitor='val_loss', patience=3, restore_best_weights=True)\n",
        "reduce_lr = ReduceLROnPlateau(monitor='val_loss', patience=2, factor=0.2, verbose=1)\n",
        "\n",
        "# Train (Frozen Base)\n",
        "print(\"Training with frozen base...\")\n",
        "history_frozen = model.fit(\n",
        "    train_ds,\n",
        "    validation_data=val_ds,\n",
        "    epochs=6,\n",
        "    callbacks=[early_stop, reduce_lr]\n",
        ")"
      ],
      "metadata": {
        "colab": {
          "base_uri": "https://localhost:8080/"
        },
        "id": "8XnSbmQalDGx",
        "outputId": "0aecf903-f58e-43c1-9f46-87182e9a9c92"
      },
      "execution_count": 7,
      "outputs": [
        {
          "output_type": "stream",
          "name": "stdout",
          "text": [
            "Downloading data from https://storage.googleapis.com/keras-applications/efficientnetb0_notop.h5\n",
            "\u001b[1m16705208/16705208\u001b[0m \u001b[32m━━━━━━━━━━━━━━━━━━━━\u001b[0m\u001b[37m\u001b[0m \u001b[1m0s\u001b[0m 0us/step\n",
            "Training with frozen base...\n",
            "Epoch 1/6\n",
            "\u001b[1m214/214\u001b[0m \u001b[32m━━━━━━━━━━━━━━━━━━━━\u001b[0m\u001b[37m\u001b[0m \u001b[1m1130s\u001b[0m 5s/step - accuracy: 0.5762 - loss: 0.6798 - val_accuracy: 0.8311 - val_loss: 0.5105 - learning_rate: 1.0000e-04\n",
            "Epoch 2/6\n",
            "\u001b[1m214/214\u001b[0m \u001b[32m━━━━━━━━━━━━━━━━━━━━\u001b[0m\u001b[37m\u001b[0m \u001b[1m819s\u001b[0m 4s/step - accuracy: 0.7859 - loss: 0.5118 - val_accuracy: 0.8643 - val_loss: 0.4034 - learning_rate: 1.0000e-04\n",
            "Epoch 3/6\n",
            "\u001b[1m214/214\u001b[0m \u001b[32m━━━━━━━━━━━━━━━━━━━━\u001b[0m\u001b[37m\u001b[0m \u001b[1m817s\u001b[0m 4s/step - accuracy: 0.8484 - loss: 0.4211 - val_accuracy: 0.8669 - val_loss: 0.3479 - learning_rate: 1.0000e-04\n",
            "Epoch 4/6\n",
            "\u001b[1m214/214\u001b[0m \u001b[32m━━━━━━━━━━━━━━━━━━━━\u001b[0m\u001b[37m\u001b[0m \u001b[1m758s\u001b[0m 3s/step - accuracy: 0.8548 - loss: 0.3787 - val_accuracy: 0.8771 - val_loss: 0.3130 - learning_rate: 1.0000e-04\n",
            "Epoch 5/6\n",
            "\u001b[1m214/214\u001b[0m \u001b[32m━━━━━━━━━━━━━━━━━━━━\u001b[0m\u001b[37m\u001b[0m \u001b[1m781s\u001b[0m 4s/step - accuracy: 0.8757 - loss: 0.3393 - val_accuracy: 0.8865 - val_loss: 0.2894 - learning_rate: 1.0000e-04\n",
            "Epoch 6/6\n",
            "\u001b[1m214/214\u001b[0m \u001b[32m━━━━━━━━━━━━━━━━━━━━\u001b[0m\u001b[37m\u001b[0m \u001b[1m782s\u001b[0m 4s/step - accuracy: 0.8779 - loss: 0.3215 - val_accuracy: 0.8916 - val_loss: 0.2731 - learning_rate: 1.0000e-04\n"
          ]
        }
      ]
    },
    {
      "cell_type": "code",
      "source": [
        "print(\"Unfreezing last 20 layers for fine-tuning...\")\n",
        "base_model.trainable = True\n",
        "for layer in base_model.layers[:-20]:\n",
        "    layer.trainable = False\n",
        "\n",
        "# Re-compile with lower LR\n",
        "model.compile(\n",
        "    optimizer=Adam(learning_rate=1e-5),\n",
        "    loss='binary_crossentropy',\n",
        "    metrics=['accuracy', tf.keras.metrics.AUC(name='auc')]\n",
        ")\n",
        "\n",
        "# Fine-tune\n",
        "history_finetune = model.fit(\n",
        "    train_ds,\n",
        "    validation_data=val_ds,\n",
        "    epochs=10,\n",
        "    callbacks=[early_stop, reduce_lr]\n",
        ")"
      ],
      "metadata": {
        "colab": {
          "base_uri": "https://localhost:8080/"
        },
        "id": "0XECYQkbuUnY",
        "outputId": "366af3ee-85c0-4b9c-a3a4-48a534d448a0"
      },
      "execution_count": 8,
      "outputs": [
        {
          "output_type": "stream",
          "name": "stdout",
          "text": [
            "Unfreezing last 20 layers for fine-tuning...\n",
            "Epoch 1/10\n",
            "\u001b[1m214/214\u001b[0m \u001b[32m━━━━━━━━━━━━━━━━━━━━\u001b[0m\u001b[37m\u001b[0m \u001b[1m797s\u001b[0m 4s/step - accuracy: 0.8728 - auc: 0.9435 - loss: 0.3585 - val_accuracy: 0.9061 - val_auc: 0.9752 - val_loss: 0.2347 - learning_rate: 1.0000e-05\n",
            "Epoch 2/10\n",
            "\u001b[1m214/214\u001b[0m \u001b[32m━━━━━━━━━━━━━━━━━━━━\u001b[0m\u001b[37m\u001b[0m \u001b[1m791s\u001b[0m 4s/step - accuracy: 0.8963 - auc: 0.9597 - loss: 0.2793 - val_accuracy: 0.9206 - val_auc: 0.9811 - val_loss: 0.1986 - learning_rate: 1.0000e-05\n",
            "Epoch 3/10\n",
            "\u001b[1m214/214\u001b[0m \u001b[32m━━━━━━━━━━━━━━━━━━━━\u001b[0m\u001b[37m\u001b[0m \u001b[1m811s\u001b[0m 4s/step - accuracy: 0.9075 - auc: 0.9674 - loss: 0.2435 - val_accuracy: 0.9275 - val_auc: 0.9848 - val_loss: 0.1775 - learning_rate: 1.0000e-05\n",
            "Epoch 4/10\n",
            "\u001b[1m214/214\u001b[0m \u001b[32m━━━━━━━━━━━━━━━━━━━━\u001b[0m\u001b[37m\u001b[0m \u001b[1m777s\u001b[0m 4s/step - accuracy: 0.9201 - auc: 0.9751 - loss: 0.2117 - val_accuracy: 0.9317 - val_auc: 0.9871 - val_loss: 0.1621 - learning_rate: 1.0000e-05\n",
            "Epoch 5/10\n",
            "\u001b[1m214/214\u001b[0m \u001b[32m━━━━━━━━━━━━━━━━━━━━\u001b[0m\u001b[37m\u001b[0m \u001b[1m780s\u001b[0m 4s/step - accuracy: 0.9242 - auc: 0.9759 - loss: 0.2051 - val_accuracy: 0.9403 - val_auc: 0.9890 - val_loss: 0.1500 - learning_rate: 1.0000e-05\n",
            "Epoch 6/10\n",
            "\u001b[1m214/214\u001b[0m \u001b[32m━━━━━━━━━━━━━━━━━━━━\u001b[0m\u001b[37m\u001b[0m \u001b[1m749s\u001b[0m 3s/step - accuracy: 0.9265 - auc: 0.9792 - loss: 0.1927 - val_accuracy: 0.9420 - val_auc: 0.9902 - val_loss: 0.1417 - learning_rate: 1.0000e-05\n",
            "Epoch 7/10\n",
            "\u001b[1m214/214\u001b[0m \u001b[32m━━━━━━━━━━━━━━━━━━━━\u001b[0m\u001b[37m\u001b[0m \u001b[1m800s\u001b[0m 4s/step - accuracy: 0.9349 - auc: 0.9819 - loss: 0.1780 - val_accuracy: 0.9471 - val_auc: 0.9910 - val_loss: 0.1332 - learning_rate: 1.0000e-05\n",
            "Epoch 8/10\n",
            "\u001b[1m214/214\u001b[0m \u001b[32m━━━━━━━━━━━━━━━━━━━━\u001b[0m\u001b[37m\u001b[0m \u001b[1m748s\u001b[0m 3s/step - accuracy: 0.9407 - auc: 0.9854 - loss: 0.1631 - val_accuracy: 0.9471 - val_auc: 0.9914 - val_loss: 0.1285 - learning_rate: 1.0000e-05\n",
            "Epoch 9/10\n",
            "\u001b[1m214/214\u001b[0m \u001b[32m━━━━━━━━━━━━━━━━━━━━\u001b[0m\u001b[37m\u001b[0m \u001b[1m838s\u001b[0m 4s/step - accuracy: 0.9422 - auc: 0.9844 - loss: 0.1628 - val_accuracy: 0.9488 - val_auc: 0.9919 - val_loss: 0.1238 - learning_rate: 1.0000e-05\n",
            "Epoch 10/10\n",
            "\u001b[1m214/214\u001b[0m \u001b[32m━━━━━━━━━━━━━━━━━━━━\u001b[0m\u001b[37m\u001b[0m \u001b[1m788s\u001b[0m 4s/step - accuracy: 0.9485 - auc: 0.9874 - loss: 0.1490 - val_accuracy: 0.9497 - val_auc: 0.9924 - val_loss: 0.1187 - learning_rate: 1.0000e-05\n"
          ]
        }
      ]
    },
    {
      "cell_type": "code",
      "source": [
        "import numpy as np\n",
        "from sklearn.metrics import classification_report, confusion_matrix, accuracy_score, roc_auc_score\n",
        "import matplotlib.pyplot as plt\n",
        "import seaborn as sns\n",
        "\n",
        "# Get true labels\n",
        "y_true = np.concatenate([y for x, y in test_ds], axis=0)\n",
        "\n",
        "# Get predicted probabilities\n",
        "y_probs =model.predict(test_ds)\n",
        "y_pred = (y_probs > 0.5).astype(\"int\").flatten()"
      ],
      "metadata": {
        "colab": {
          "base_uri": "https://localhost:8080/"
        },
        "id": "C-V8unOgwwGF",
        "outputId": "14dec887-5786-4535-9173-f48831827efd"
      },
      "execution_count": 9,
      "outputs": [
        {
          "output_type": "stream",
          "name": "stdout",
          "text": [
            "\u001b[1m19/19\u001b[0m \u001b[32m━━━━━━━━━━━━━━━━━━━━\u001b[0m\u001b[37m\u001b[0m \u001b[1m56s\u001b[0m 3s/step\n"
          ]
        }
      ]
    },
    {
      "cell_type": "code",
      "source": [
        "# Accuracy\n",
        "print(f\"Accuracy: {accuracy_score(y_true, y_pred) * 100:.2f}%\")\n",
        "\n",
        "# Classification Report\n",
        "print(\"\\nClassification Report:\")\n",
        "print(classification_report(y_true, y_pred, target_names=[\"NORMAL\", \"PNEUMONIA\"]))\n",
        "\n"
      ],
      "metadata": {
        "colab": {
          "base_uri": "https://localhost:8080/"
        },
        "id": "dsjmglAUxcsR",
        "outputId": "e26f6076-b324-4f79-a348-2d0463de4374"
      },
      "execution_count": 10,
      "outputs": [
        {
          "output_type": "stream",
          "name": "stdout",
          "text": [
            "Accuracy: 93.86%\n",
            "\n",
            "Classification Report:\n",
            "              precision    recall  f1-score   support\n",
            "\n",
            "      NORMAL       0.93      0.95      0.94       293\n",
            "   PNEUMONIA       0.95      0.92      0.94       293\n",
            "\n",
            "    accuracy                           0.94       586\n",
            "   macro avg       0.94      0.94      0.94       586\n",
            "weighted avg       0.94      0.94      0.94       586\n",
            "\n"
          ]
        }
      ]
    },
    {
      "cell_type": "code",
      "source": [
        "\n",
        "cm = confusion_matrix(y_true, y_pred)\n",
        "plt.figure(figsize=(5,4))\n",
        "sns.heatmap(cm, annot=True, fmt=\"d\", cmap=\"Blues\", xticklabels=[\"Normal\", \"Pneumonia\"], yticklabels=[\"Normal\", \"Pneumonia\"])\n",
        "plt.xlabel(\"Predicted\")\n",
        "plt.ylabel(\"Actual\")\n",
        "plt.title(\"Confusion Matrix\")\n",
        "plt.show()\n"
      ],
      "metadata": {
        "colab": {
          "base_uri": "https://localhost:8080/",
          "height": 410
        },
        "id": "evz00MjsztE-",
        "outputId": "b0a7c3cc-a256-400f-859c-a318c79fae92"
      },
      "execution_count": 11,
      "outputs": [
        {
          "output_type": "display_data",
          "data": {
            "text/plain": [
              "<Figure size 500x400 with 2 Axes>"
            ],
            "image/png": "[encoded data removed]"
          },
          "metadata": {}
        }
      ]
    },
    {
      "cell_type": "code",
      "source": [
        "auc = roc_auc_score(y_true, y_probs)\n",
        "print(f\"AUC Score: {auc:.4f}\")"
      ],
      "metadata": {
        "id": "t7s5QJyZ94ZN",
        "outputId": "c75810fa-271f-4664-bf4c-0f187fe12767",
        "colab": {
          "base_uri": "https://localhost:8080/"
        }
      },
      "execution_count": 12,
      "outputs": [
        {
          "output_type": "stream",
          "name": "stdout",
          "text": [
            "AUC Score: 0.9845\n"
          ]
        }
      ]
    },
    {
      "cell_type": "code",
      "source": [
        "\n",
        "from sklearn.metrics import roc_curve\n",
        "\n",
        "fpr, tpr, _ = roc_curve(y_true, y_probs)\n",
        "plt.figure()\n",
        "plt.plot(fpr, tpr, label=f\"AUC = {auc:.4f}\")\n",
        "plt.plot([0, 1], [0, 1], 'k--')\n",
        "plt.xlabel(\"False Positive Rate\")\n",
        "plt.ylabel(\"True Positive Rate\")\n",
        "plt.title(\"ROC Curve\")\n",
        "plt.legend(loc=\"lower right\")\n",
        "plt.show()"
      ],
      "metadata": {
        "id": "lMROw78697NS",
        "outputId": "b9dbd344-d410-4e18-a707-6d779857c729",
        "colab": {
          "base_uri": "https://localhost:8080/",
          "height": 472
        }
      },
      "execution_count": 13,
      "outputs": [
        {
          "output_type": "display_data",
          "data": {
            "text/plain": [
              "<Figure size 640x480 with 1 Axes>"
            ],
            "image/png": "[encoded data removed]"
          },
          "metadata": {}
        }
      ]
    }
  ]
}