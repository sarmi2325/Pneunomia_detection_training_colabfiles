{
  "nbformat": 4,
  "nbformat_minor": 0,
  "metadata": {
    "colab": {
      "provenance": []
    },
    "kernelspec": {
      "name": "python3",
      "display_name": "Python 3"
    },
    "language_info": {
      "name": "python"
    }
  },
  "cells": [
    {
      "cell_type": "code",
      "execution_count": 1,
      "metadata": {
        "colab": {
          "base_uri": "https://localhost:8080/"
        },
        "id": "u2h_HaFqNBNR",
        "outputId": "122e79e2-e16e-44fb-b74a-ea3f71bec8ed"
      },
      "outputs": [
        {
          "output_type": "stream",
          "name": "stdout",
          "text": [
            "Mounted at /content/drive\n"
          ]
        }
      ],
      "source": [
        "#Connecting to the Google Drive\n",
        "from google.colab import drive\n",
        "drive.mount('/content/drive')"
      ]
    },
    {
      "cell_type": "code",
      "source": [
        "import tensorflow as tf\n",
        "from tensorflow.keras.preprocessing import image_dataset_from_directory\n",
        "from tensorflow.data import AUTOTUNE\n",
        "from tensorflow.keras.applications import MobileNetV2\n",
        "from tensorflow.keras.applications.mobilenet_v2 import preprocess_input\n",
        "from tensorflow.keras.layers import GlobalAveragePooling2D, Dropout, Dense, BatchNormalization\n",
        "from tensorflow.keras.callbacks import EarlyStopping, ReduceLROnPlateau\n",
        "from sklearn.metrics import classification_report, confusion_matrix, roc_auc_score\n",
        "import numpy as np\n",
        "\n",
        "# Set path to your dataset\n",
        "data_dir = '/content/drive/MyDrive/chest_xray (1)'\n",
        "\n",
        "#Resizing image and configuring batch size\n",
        "IMG_SIZE = (224, 224)\n",
        "BATCH_SIZE = 32\n",
        "\n",
        "# Load training data\n",
        "train_ds = image_dataset_from_directory(\n",
        "    directory=f\"{data_dir}/train\",\n",
        "    labels='inferred',\n",
        "    label_mode='int',\n",
        "    image_size=IMG_SIZE,\n",
        "    batch_size=BATCH_SIZE\n",
        ")\n",
        "\n",
        "#Load validation data\n",
        "val_ds = image_dataset_from_directory(\n",
        "    directory=f\"{data_dir}/val\",\n",
        "    labels='inferred',\n",
        "    label_mode='int',\n",
        "    image_size=IMG_SIZE,\n",
        "    batch_size=BATCH_SIZE\n",
        ")\n",
        "\n",
        "# Load test data\n",
        "test_ds = image_dataset_from_directory(\n",
        "    directory=f\"{data_dir}/test\",\n",
        "    labels='inferred',\n",
        "    label_mode='int',\n",
        "    image_size=IMG_SIZE,\n",
        "    batch_size=BATCH_SIZE,\n",
        "    shuffle=False\n",
        ")\n",
        "\n",
        "# Prefetch batch for optimized performance\n",
        "train_ds = train_ds.prefetch(buffer_size=AUTOTUNE)\n",
        "val_ds = val_ds.prefetch(buffer_size=AUTOTUNE)\n",
        "test_ds = test_ds.prefetch(buffer_size=AUTOTUNE)"
      ],
      "metadata": {
        "colab": {
          "base_uri": "https://localhost:8080/"
        },
        "id": "HlWKZ3yDNTLR",
        "outputId": "e9b03462-f1fa-4592-b702-f13aee20db69"
      },
      "execution_count": 3,
      "outputs": [
        {
          "output_type": "stream",
          "name": "stdout",
          "text": [
            "Found 6818 files belonging to 2 classes.\n",
            "Found 1172 files belonging to 2 classes.\n",
            "Found 586 files belonging to 2 classes.\n"
          ]
        }
      ]
    },
    {
      "cell_type": "code",
      "source": [
        "# Optimize\n",
        "train_ds = train_ds.prefetch(buffer_size=AUTOTUNE)\n",
        "val_ds = val_ds.prefetch(buffer_size=AUTOTUNE)\n",
        "test_ds = test_ds.prefetch(buffer_size=AUTOTUNE)"
      ],
      "metadata": {
        "id": "ZNt4MjrVNUn8"
      },
      "execution_count": 4,
      "outputs": []
    },
    {
      "cell_type": "code",
      "source": [
        "# Data Augmentation block\n",
        "from tensorflow.keras import layers, callbacks\n",
        "data_augmentation = tf.keras.Sequential([\n",
        "    layers.RandomBrightness(factor=0.2),\n",
        "    layers.RandomContrast(factor=0.2),\n",
        "    layers.RandomZoom(0.1),\n",
        "])"
      ],
      "metadata": {
        "id": "ns-DWhoXKN4q"
      },
      "execution_count": 6,
      "outputs": []
    },
    {
      "cell_type": "code",
      "source": [
        "def build_mobilenetv2_model(trainable_layers=0):\n",
        "    base_model = MobileNetV2(input_shape=(224, 224, 3), include_top=False, weights='imagenet')\n",
        "    base_model.trainable = False if trainable_layers == 0 else True\n",
        "\n",
        "    if trainable_layers > 0:\n",
        "        for layer in base_model.layers[:-trainable_layers]:\n",
        "            layer.trainable = False\n",
        "\n",
        "    inputs = tf.keras.Input(shape=(224, 224, 3))\n",
        "    x = data_augmentation(inputs)\n",
        "    x = preprocess_input(x)\n",
        "    x = base_model(x, training=True)\n",
        "    x = GlobalAveragePooling2D()(x)\n",
        "    x = BatchNormalization()(x)\n",
        "    x = Dropout(0.3)(x)\n",
        "    outputs = Dense(1, activation='sigmoid')(x)\n",
        "\n",
        "    model = tf.keras.Model(inputs, outputs)\n",
        "    return model\n",
        "\n",
        "def compile_model(model, lr=1e-3):\n",
        "    model.compile(\n",
        "        optimizer=tf.keras.optimizers.Adam(learning_rate=lr),\n",
        "        loss='binary_crossentropy',\n",
        "        metrics=['accuracy', tf.keras.metrics.AUC(name='auc')]\n",
        "    )\n"
      ],
      "metadata": {
        "id": "hdsTjNPcNmCH"
      },
      "execution_count": 7,
      "outputs": []
    },
    {
      "cell_type": "code",
      "source": [
        "model = build_mobilenetv2_model(trainable_layers=0)\n",
        "compile_model(model)\n",
        "\n",
        "early_stop = EarlyStopping(monitor='val_loss', patience=3, restore_best_weights=True)\n",
        "lr_reduce = ReduceLROnPlateau(monitor='val_loss', factor=0.5, patience=2, min_lr=1e-6)\n",
        "\n",
        "print(\"🔧 Training Phase 1 (Frozen base)...\")\n",
        "history_1 = model.fit(train_ds, validation_data=val_ds, epochs=5, callbacks=[early_stop])\n"
      ],
      "metadata": {
        "colab": {
          "base_uri": "https://localhost:8080/"
        },
        "id": "JP57IWSzNsMt",
        "outputId": "60a68fea-47bb-47df-95c5-6fb30aeb235b"
      },
      "execution_count": 8,
      "outputs": [
        {
          "output_type": "stream",
          "name": "stdout",
          "text": [
            "Downloading data from https://storage.googleapis.com/tensorflow/keras-applications/mobilenet_v2/mobilenet_v2_weights_tf_dim_ordering_tf_kernels_1.0_224_no_top.h5\n",
            "\u001b[1m9406464/9406464\u001b[0m \u001b[32m━━━━━━━━━━━━━━━━━━━━\u001b[0m\u001b[37m\u001b[0m \u001b[1m0s\u001b[0m 0us/step\n",
            "🔧 Training Phase 1 (Frozen base)...\n",
            "Epoch 1/5\n",
            "\u001b[1m214/214\u001b[0m \u001b[32m━━━━━━━━━━━━━━━━━━━━\u001b[0m\u001b[37m\u001b[0m \u001b[1m1065s\u001b[0m 5s/step - accuracy: 0.8395 - auc: 0.9095 - loss: 0.3688 - val_accuracy: 0.9462 - val_auc: 0.9882 - val_loss: 0.1571\n",
            "Epoch 2/5\n",
            "\u001b[1m214/214\u001b[0m \u001b[32m━━━━━━━━━━━━━━━━━━━━\u001b[0m\u001b[37m\u001b[0m \u001b[1m485s\u001b[0m 2s/step - accuracy: 0.9232 - auc: 0.9754 - loss: 0.1971 - val_accuracy: 0.9531 - val_auc: 0.9905 - val_loss: 0.1238\n",
            "Epoch 3/5\n",
            "\u001b[1m214/214\u001b[0m \u001b[32m━━━━━━━━━━━━━━━━━━━━\u001b[0m\u001b[37m\u001b[0m \u001b[1m453s\u001b[0m 2s/step - accuracy: 0.9408 - auc: 0.9834 - loss: 0.1614 - val_accuracy: 0.9565 - val_auc: 0.9918 - val_loss: 0.1142\n",
            "Epoch 4/5\n",
            "\u001b[1m214/214\u001b[0m \u001b[32m━━━━━━━━━━━━━━━━━━━━\u001b[0m\u001b[37m\u001b[0m \u001b[1m503s\u001b[0m 2s/step - accuracy: 0.9387 - auc: 0.9840 - loss: 0.1584 - val_accuracy: 0.9497 - val_auc: 0.9909 - val_loss: 0.1168\n",
            "Epoch 5/5\n",
            "\u001b[1m214/214\u001b[0m \u001b[32m━━━━━━━━━━━━━━━━━━━━\u001b[0m\u001b[37m\u001b[0m \u001b[1m450s\u001b[0m 2s/step - accuracy: 0.9415 - auc: 0.9852 - loss: 0.1526 - val_accuracy: 0.9522 - val_auc: 0.9909 - val_loss: 0.1180\n"
          ]
        }
      ]
    },
    {
      "cell_type": "code",
      "source": [
        "print(\" Fine-tuning Phase 2 (Unfreezing)...\")\n",
        "model = build_mobilenetv2_model(trainable_layers=30)\n",
        "compile_model(model, lr=1e-5)\n",
        "\n",
        "history_2 = model.fit(train_ds, validation_data=val_ds, epochs=10, callbacks=[early_stop, lr_reduce])\n"
      ],
      "metadata": {
        "colab": {
          "base_uri": "https://localhost:8080/"
        },
        "id": "5h9y6YnjgNoS",
        "outputId": "aec2c17b-818b-49b1-9a4e-701cb3403d74"
      },
      "execution_count": 9,
      "outputs": [
        {
          "output_type": "stream",
          "name": "stdout",
          "text": [
            " Fine-tuning Phase 2 (Unfreezing)...\n",
            "Epoch 1/10\n",
            "\u001b[1m214/214\u001b[0m \u001b[32m━━━━━━━━━━━━━━━━━━━━\u001b[0m\u001b[37m\u001b[0m \u001b[1m548s\u001b[0m 2s/step - accuracy: 0.7142 - auc: 0.7794 - loss: 0.5962 - val_accuracy: 0.8874 - val_auc: 0.9592 - val_loss: 0.2840 - learning_rate: 1.0000e-05\n",
            "Epoch 2/10\n",
            "\u001b[1m214/214\u001b[0m \u001b[32m━━━━━━━━━━━━━━━━━━━━\u001b[0m\u001b[37m\u001b[0m \u001b[1m551s\u001b[0m 2s/step - accuracy: 0.9140 - auc: 0.9693 - loss: 0.2243 - val_accuracy: 0.9138 - val_auc: 0.9791 - val_loss: 0.2006 - learning_rate: 1.0000e-05\n",
            "Epoch 3/10\n",
            "\u001b[1m214/214\u001b[0m \u001b[32m━━━━━━━━━━━━━━━━━━━━\u001b[0m\u001b[37m\u001b[0m \u001b[1m528s\u001b[0m 2s/step - accuracy: 0.9381 - auc: 0.9828 - loss: 0.1649 - val_accuracy: 0.9326 - val_auc: 0.9861 - val_loss: 0.1607 - learning_rate: 1.0000e-05\n",
            "Epoch 4/10\n",
            "\u001b[1m214/214\u001b[0m \u001b[32m━━━━━━━━━━━━━━━━━━━━\u001b[0m\u001b[37m\u001b[0m \u001b[1m564s\u001b[0m 2s/step - accuracy: 0.9449 - auc: 0.9856 - loss: 0.1490 - val_accuracy: 0.9428 - val_auc: 0.9894 - val_loss: 0.1401 - learning_rate: 1.0000e-05\n",
            "Epoch 5/10\n",
            "\u001b[1m214/214\u001b[0m \u001b[32m━━━━━━━━━━━━━━━━━━━━\u001b[0m\u001b[37m\u001b[0m \u001b[1m540s\u001b[0m 3s/step - accuracy: 0.9583 - auc: 0.9888 - loss: 0.1259 - val_accuracy: 0.9522 - val_auc: 0.9912 - val_loss: 0.1298 - learning_rate: 1.0000e-05\n",
            "Epoch 6/10\n",
            "\u001b[1m214/214\u001b[0m \u001b[32m━━━━━━━━━━━━━━━━━━━━\u001b[0m\u001b[37m\u001b[0m \u001b[1m558s\u001b[0m 2s/step - accuracy: 0.9567 - auc: 0.9911 - loss: 0.1161 - val_accuracy: 0.9531 - val_auc: 0.9922 - val_loss: 0.1366 - learning_rate: 1.0000e-05\n",
            "Epoch 7/10\n",
            "\u001b[1m214/214\u001b[0m \u001b[32m━━━━━━━━━━━━━━━━━━━━\u001b[0m\u001b[37m\u001b[0m \u001b[1m565s\u001b[0m 3s/step - accuracy: 0.9602 - auc: 0.9926 - loss: 0.1027 - val_accuracy: 0.9565 - val_auc: 0.9930 - val_loss: 0.1203 - learning_rate: 1.0000e-05\n",
            "Epoch 8/10\n",
            "\u001b[1m214/214\u001b[0m \u001b[32m━━━━━━━━━━━━━━━━━━━━\u001b[0m\u001b[37m\u001b[0m \u001b[1m560s\u001b[0m 3s/step - accuracy: 0.9692 - auc: 0.9946 - loss: 0.0863 - val_accuracy: 0.9659 - val_auc: 0.9943 - val_loss: 0.0990 - learning_rate: 1.0000e-05\n",
            "Epoch 9/10\n",
            "\u001b[1m214/214\u001b[0m \u001b[32m━━━━━━━━━━━━━━━━━━━━\u001b[0m\u001b[37m\u001b[0m \u001b[1m534s\u001b[0m 2s/step - accuracy: 0.9749 - auc: 0.9962 - loss: 0.0725 - val_accuracy: 0.9633 - val_auc: 0.9941 - val_loss: 0.0995 - learning_rate: 1.0000e-05\n",
            "Epoch 10/10\n",
            "\u001b[1m214/214\u001b[0m \u001b[32m━━━━━━━━━━━━━━━━━━━━\u001b[0m\u001b[37m\u001b[0m \u001b[1m564s\u001b[0m 3s/step - accuracy: 0.9773 - auc: 0.9974 - loss: 0.0657 - val_accuracy: 0.9659 - val_auc: 0.9943 - val_loss: 0.0947 - learning_rate: 1.0000e-05\n"
          ]
        }
      ]
    },
    {
      "cell_type": "code",
      "source": [
        "import numpy as np\n",
        "from sklearn.metrics import classification_report, confusion_matrix, accuracy_score, roc_auc_score\n",
        "import matplotlib.pyplot as plt\n",
        "import seaborn as sns\n",
        "\n",
        "# Get true labels\n",
        "y_true = np.concatenate([y for x, y in test_ds], axis=0)\n",
        "\n",
        "# Get predicted probabilities\n",
        "y_probs =model.predict(test_ds)\n",
        "y_pred = (y_probs > 0.5).astype(\"int\").flatten()\n"
      ],
      "metadata": {
        "colab": {
          "base_uri": "https://localhost:8080/"
        },
        "id": "dNA6TD3FOVma",
        "outputId": "df170f93-9e46-411a-a15d-9be15e7b9812"
      },
      "execution_count": 10,
      "outputs": [
        {
          "output_type": "stream",
          "name": "stdout",
          "text": [
            "\u001b[1m19/19\u001b[0m \u001b[32m━━━━━━━━━━━━━━━━━━━━\u001b[0m\u001b[37m\u001b[0m \u001b[1m31s\u001b[0m 1s/step\n"
          ]
        }
      ]
    },
    {
      "cell_type": "code",
      "source": [
        "# Accuracy\n",
        "print(f\"Accuracy: {accuracy_score(y_true, y_pred) * 100:.2f}%\")\n",
        "\n",
        "# Classification Report\n",
        "print(\"\\nClassification Report:\")\n",
        "print(classification_report(y_true, y_pred, target_names=[\"NORMAL\", \"PNEUMONIA\"]))\n"
      ],
      "metadata": {
        "colab": {
          "base_uri": "https://localhost:8080/"
        },
        "id": "SxEZQbPSOXyJ",
        "outputId": "a587943a-4788-405a-d2ea-bbdc0d5ab49e"
      },
      "execution_count": 11,
      "outputs": [
        {
          "output_type": "stream",
          "name": "stdout",
          "text": [
            "Accuracy: 95.22%\n",
            "\n",
            "Classification Report:\n",
            "              precision    recall  f1-score   support\n",
            "\n",
            "      NORMAL       0.96      0.95      0.95       293\n",
            "   PNEUMONIA       0.95      0.96      0.95       293\n",
            "\n",
            "    accuracy                           0.95       586\n",
            "   macro avg       0.95      0.95      0.95       586\n",
            "weighted avg       0.95      0.95      0.95       586\n",
            "\n"
          ]
        }
      ]
    },
    {
      "cell_type": "code",
      "source": [
        "cm = confusion_matrix(y_true, y_pred)\n",
        "plt.figure(figsize=(5,4))\n",
        "sns.heatmap(cm, annot=True, fmt=\"d\", cmap=\"Blues\", xticklabels=[\"Normal\", \"Pneumonia\"], yticklabels=[\"Normal\", \"Pneumonia\"])\n",
        "plt.xlabel(\"Predicted\")\n",
        "plt.ylabel(\"Actual\")\n",
        "plt.title(\"Confusion Matrix\")\n",
        "plt.show()\n"
      ],
      "metadata": {
        "colab": {
          "base_uri": "https://localhost:8080/",
          "height": 410
        },
        "id": "vJV3j5QAOb43",
        "outputId": "e2c47f8b-6ec6-4072-896d-939b9c5c4926"
      },
      "execution_count": 12,
      "outputs": [
        {
          "output_type": "display_data",
          "data": {
            "text/plain": [
              "<Figure size 500x400 with 2 Axes>"
            ],
            "image/png": "[encoded data removed]"
          },
          "metadata": {}
        }
      ]
    },
    {
      "cell_type": "code",
      "source": [
        "auc = roc_auc_score(y_true, y_probs)\n",
        "print(f\"AUC Score: {auc:.4f}\")\n"
      ],
      "metadata": {
        "colab": {
          "base_uri": "https://localhost:8080/"
        },
        "id": "tS8PBYCcOcXS",
        "outputId": "a5a38c72-596d-4aee-8df0-e10ef70cc376"
      },
      "execution_count": 13,
      "outputs": [
        {
          "output_type": "stream",
          "name": "stdout",
          "text": [
            "AUC Score: 0.9925\n"
          ]
        }
      ]
    },
    {
      "cell_type": "code",
      "source": [
        "from sklearn.metrics import roc_curve\n",
        "\n",
        "fpr, tpr, _ = roc_curve(y_true, y_probs)\n",
        "plt.figure()\n",
        "plt.plot(fpr, tpr, label=f\"AUC = {auc:.4f}\")\n",
        "plt.plot([0, 1], [0, 1], 'k--')\n",
        "plt.xlabel(\"False Positive Rate\")\n",
        "plt.ylabel(\"True Positive Rate\")\n",
        "plt.title(\"ROC Curve\")\n",
        "plt.legend(loc=\"lower right\")\n",
        "plt.show()\n"
      ],
      "metadata": {
        "colab": {
          "base_uri": "https://localhost:8080/",
          "height": 472
        },
        "id": "8RIbaaBfOeYs",
        "outputId": "a610cb18-488f-498a-b13b-d422eaf31e84"
      },
      "execution_count": 14,
      "outputs": [
        {
          "output_type": "display_data",
          "data": {
            "text/plain": [
              "<Figure size 640x480 with 1 Axes>"
            ],
            "image/png": "[encoded data removed]"
          },
          "metadata": {}
        }
      ]
    },
    {
      "cell_type": "code",
      "source": [
        "model.save(\"mobilenetv2.keras\")\n",
        "from google.colab import files\n",
        "files.download(\"mobilenetv2.keras\")"
      ],
      "metadata": {
        "colab": {
          "base_uri": "https://localhost:8080/",
          "height": 17
        },
        "id": "62w6B5PYDwrf",
        "outputId": "79efe245-2a1b-4f30-e6b0-4e35ee706ceb"
      },
      "execution_count": 15,
      "outputs": [
        {
          "output_type": "display_data",
          "data": {
            "text/plain": [
              "<IPython.core.display.Javascript object>"
            ],
            "application/javascript": [
              "\n",
              "    async function download(id, filename, size) {\n",
              "      if (!google.colab.kernel.accessAllowed) {\n",
              "        return;\n",
              "      }\n",
              "      const div = document.createElement('div');\n",
              "      const label = document.createElement('label');\n",
              "      label.textContent = `Downloading \"${filename}\": `;\n",
              "      div.appendChild(label);\n",
              "      const progress = document.createElement('progress');\n",
              "      progress.max = size;\n",
              "      div.appendChild(progress);\n",
              "      document.body.appendChild(div);\n",
              "\n",
              "      const buffers = [];\n",
              "      let downloaded = 0;\n",
              "\n",
              "      const channel = await google.colab.kernel.comms.open(id);\n",
              "      // Send a message to notify the kernel that we're ready.\n",
              "      channel.send({})\n",
              "\n",
              "      for await (const message of channel.messages) {\n",
              "        // Send a message to notify the kernel that we're ready.\n",
              "        channel.send({})\n",
              "        if (message.buffers) {\n",
              "          for (const buffer of message.buffers) {\n",
              "            buffers.push(buffer);\n",
              "            downloaded += buffer.byteLength;\n",
              "            progress.value = downloaded;\n",
              "          }\n",
              "        }\n",
              "      }\n",
              "      const blob = new Blob(buffers, {type: 'application/binary'});\n",
              "      const a = document.createElement('a');\n",
              "      a.href = window.URL.createObjectURL(blob);\n",
              "      a.download = filename;\n",
              "      div.appendChild(a);\n",
              "      a.click();\n",
              "      div.remove();\n",
              "    }\n",
              "  "
            ]
          },
          "metadata": {}
        },
        {
          "output_type": "display_data",
          "data": {
            "text/plain": [
              "<IPython.core.display.Javascript object>"
            ],
            "application/javascript": [
              "download(\"download_9f1ca18e-857a-4b42-81bb-63265f77b09f\", \"mobilenetv2.keras\", 21928360)"
            ]
          },
          "metadata": {}
        }
      ]
    }
  ]
}
